{
  "nbformat": 4,
  "nbformat_minor": 0,
  "metadata": {
    "colab": {
      "provenance": [],
      "collapsed_sections": [
        "mOj0_ntHfRUC",
        "AXsSX7RlgGEG",
        "k3s4vKmggwIL"
      ],
      "gpuType": "T4",
      "include_colab_link": true
    },
    "kernelspec": {
      "name": "python3",
      "display_name": "Python 3"
    },
    "language_info": {
      "name": "python"
    },
    "accelerator": "GPU"
  },
  "cells": [
    {
      "cell_type": "markdown",
      "metadata": {
        "id": "view-in-github",
        "colab_type": "text"
      },
      "source": [
        "<a href=\"https://colab.research.google.com/github/Raghad-Odwan/Dataset-Full-Project/blob/main/DermAI_AI_Model_Training_.ipynb\" target=\"_parent\"><img src=\"https://colab.research.google.com/assets/colab-badge.svg\" alt=\"Open In Colab\"/></a>"
      ]
    },
    {
      "cell_type": "markdown",
      "source": [
        "# DermAI_AI_Model_Training .ipynb\n",
        "\n",
        "###  **Notebook Overview**\n",
        "\n",
        "This notebook is structured into two main parts:\n",
        "\n",
        "##### **✅Part 1 — Dataset Preparation & Preprocessing**\n",
        "In this section, the dataset (≈19,600 dermatoscopic images) is loaded, explored, and organized into two main categories:\n",
        "- **Benign (13,294 images)**\n",
        "- **Malignant (6,211 images)**  \n",
        "Data preprocessing includes cleaning, resizing, normalization, and augmentation to ensure robust model generalization and balance during training.\n",
        "\n",
        "##### **✅Part 2 — Model Training, Validation & Evaluation**\n",
        "This section covers the **training pipeline** of the model using **3-Fold Stratified Cross Validation**.  \n",
        "The model (based on *EfficientNetB0 / ResNet50*) is trained to classify the images into *benign* or *malignant* lesions.  \n",
        "Performance metrics such as **Accuracy**, **Precision**, **Recall**, and **F1-Score** are calculated for each fold.  \n",
        "Additionally, **Grad-CAM visualizations** are generated to explain the model’s predictions and highlight the lesion areas influencing its decisions.  \n",
        "The results are summarized and saved for reporting within the project documentation.\n"
      ],
      "metadata": {
        "id": "HuoIuDHKe_9D"
      }
    },
    {
      "cell_type": "markdown",
      "source": [
        "# **Dataset Preparation & Preprocessing**"
      ],
      "metadata": {
        "id": "X7FbHmjsehVm"
      }
    },
    {
      "cell_type": "markdown",
      "source": [
        "## **DermAI** — Dataset Cleaning & Preprocessing"
      ],
      "metadata": {
        "id": "TTL3vULbebk4"
      }
    },
    {
      "cell_type": "markdown",
      "source": [
        "#### Uploading the dataset from Google Drive and extracted Dataset\n"
      ],
      "metadata": {
        "id": "mOj0_ntHfRUC"
      }
    },
    {
      "cell_type": "code",
      "source": [
        "from google.colab import drive\n",
        "drive.mount('/content/drive')"
      ],
      "metadata": {
        "colab": {
          "base_uri": "https://localhost:8080/"
        },
        "id": "18I3MTqnfVsF",
        "outputId": "d623c49e-13a4-4a1f-a002-298c9cda6e14"
      },
      "execution_count": 5,
      "outputs": [
        {
          "output_type": "stream",
          "name": "stdout",
          "text": [
            "Mounted at /content/drive\n"
          ]
        }
      ]
    },
    {
      "cell_type": "code",
      "source": [
        "# extracted Dataset\n",
        "import zipfile\n",
        "import os\n",
        "\n",
        "zip_path = \"/content/drive/MyDrive/Dataset.zip\"\n",
        "extract_path = \"/content/Dataset\"\n",
        "\n",
        "with zipfile.ZipFile(zip_path, 'r') as zip_ref:\n",
        "    zip_ref.extractall(extract_path)\n",
        "\n",
        "print(\"Dataset extracted successfully!\")\n",
        "os.listdir(extract_path)"
      ],
      "metadata": {
        "colab": {
          "base_uri": "https://localhost:8080/"
        },
        "id": "YzyRO0GJfndq",
        "outputId": "b55087cf-6968-4c57-861c-cc0210bedb46"
      },
      "execution_count": 6,
      "outputs": [
        {
          "output_type": "stream",
          "name": "stdout",
          "text": [
            "Dataset extracted successfully!\n"
          ]
        },
        {
          "output_type": "execute_result",
          "data": {
            "text/plain": [
              "['Dataset']"
            ]
          },
          "metadata": {},
          "execution_count": 6
        }
      ]
    },
    {
      "cell_type": "code",
      "source": [
        "dataset_path = \"/content/Dataset/Dataset\"\n",
        "\n",
        "for item in os.listdir(dataset_path):\n",
        "    print(item)"
      ],
      "metadata": {
        "colab": {
          "base_uri": "https://localhost:8080/"
        },
        "id": "68fO5qBbfzna",
        "outputId": "a14ce3ce-df79-4178-ba48-8ca09ec23499"
      },
      "execution_count": 7,
      "outputs": [
        {
          "output_type": "stream",
          "name": "stdout",
          "text": [
            "benign\n",
            "duplicates_or_corrupted\n",
            "malignant\n"
          ]
        }
      ]
    },
    {
      "cell_type": "markdown",
      "source": [
        "#### Initialize the environment and import required libraries"
      ],
      "metadata": {
        "id": "AXsSX7RlgGEG"
      }
    },
    {
      "cell_type": "code",
      "source": [
        "!pip install -q --upgrade \"tqdm>=4.67\" \"opencv-python-headless>=4.9.0.80\" \"albumentations>=1.3.1\""
      ],
      "metadata": {
        "id": "e64dsnsPgPJP"
      },
      "execution_count": 8,
      "outputs": []
    },
    {
      "cell_type": "code",
      "source": [
        "# Import libraries\n",
        "import os\n",
        "import shutil\n",
        "import hashlib\n",
        "import random\n",
        "import math\n",
        "from tqdm import tqdm\n",
        "from PIL import Image, UnidentifiedImageError\n",
        "import numpy as np\n",
        "from sklearn.model_selection import train_test_split\n",
        "import pandas as pd\n",
        "import warnings\n",
        "from pathlib import Path\n",
        "from collections import defaultdict\n",
        "from datetime import datetime\n",
        "\n",
        "# Ignore warnings\n",
        "warnings.filterwarnings('ignore')"
      ],
      "metadata": {
        "id": "9A7VDMtOgXDL"
      },
      "execution_count": 9,
      "outputs": []
    },
    {
      "cell_type": "markdown",
      "source": [
        "### **Data Cleaning and Exploration**"
      ],
      "metadata": {
        "id": "k3s4vKmggwIL"
      }
    },
    {
      "cell_type": "code",
      "source": [
        "base_dir = \"/content/Dataset/Dataset\"\n",
        "folders = [\"benign\", \"malignant\"]\n"
      ],
      "metadata": {
        "id": "PSku2Faahm_A"
      },
      "execution_count": 10,
      "outputs": []
    },
    {
      "cell_type": "code",
      "source": [
        "# Create a folder for corrupted or duplicate images\n",
        "dup_dir = os.path.join(base_dir, \"duplicates_or_corrupted\")\n",
        "os.makedirs(dup_dir, exist_ok=True)\n",
        "\n",
        "print(\"Base directory:\", base_dir)\n",
        "print(\"Duplicate/Corrupted folder created at:\", dup_dir)"
      ],
      "metadata": {
        "colab": {
          "base_uri": "https://localhost:8080/"
        },
        "id": "Ce8xJWmPhrAF",
        "outputId": "3a6bd5d5-f4ea-408c-e324-fa8e4b854649"
      },
      "execution_count": 11,
      "outputs": [
        {
          "output_type": "stream",
          "name": "stdout",
          "text": [
            "Base directory: /content/Dataset/Dataset\n",
            "Duplicate/Corrupted folder created at: /content/Dataset/Dataset/duplicates_or_corrupted\n"
          ]
        }
      ]
    },
    {
      "cell_type": "markdown",
      "source": [
        "##### Data Cleaning and Quality Verification"
      ],
      "metadata": {
        "id": "B85Q5D26hwSB"
      }
    },
    {
      "cell_type": "code",
      "source": [
        "class ImageCleaner:\n",
        "    def __init__(self, base_path):\n",
        "        self.base_path = Path(base_path)\n",
        "        self.folders_to_check = ['benign', 'malignant']\n",
        "\n",
        "        # Create folder for problematic files\n",
        "        self.problem_folder = self.base_path / 'duplicates_or_corrupted'\n",
        "        self.problem_folder.mkdir(exist_ok=True)\n",
        "\n",
        "        # Statistics\n",
        "        self.stats = {\n",
        "            'total_checked': 0,\n",
        "            'corrupted': 0,\n",
        "            'duplicates': 0,\n",
        "            'low_quality': 0,\n",
        "            'healthy': 0\n",
        "        }\n",
        "\n",
        "        # Store image hashes\n",
        "        self.image_hashes = defaultdict(list)\n",
        "\n",
        "    def calculate_hash(self, image_path):\n",
        "        try:\n",
        "            hasher = hashlib.md5()\n",
        "            with open(image_path, 'rb') as f:\n",
        "                buf = f.read()\n",
        "                hasher.update(buf)\n",
        "            return hasher.hexdigest()\n",
        "        except Exception as e:\n",
        "            print(f\"Error calculating hash: {image_path} - {e}\")\n",
        "            return None\n",
        "\n",
        "    def is_image_corrupted(self, image_path):\n",
        "        try:\n",
        "            with Image.open(image_path) as img:\n",
        "                img.verify()\n",
        "\n",
        "            with Image.open(image_path) as img:\n",
        "                img.load()\n",
        "\n",
        "            return False\n",
        "        except Exception:\n",
        "            return True\n",
        "\n",
        "    def check_image_quality(self, image_path, min_width=50, min_height=50):\n",
        "        try:\n",
        "            with Image.open(image_path) as img:\n",
        "                width, height = img.size\n",
        "\n",
        "                if width < min_width or height < min_height:\n",
        "                    return False\n",
        "\n",
        "                file_size = os.path.getsize(image_path)\n",
        "                if file_size < 1000:\n",
        "                    return False\n",
        "\n",
        "            return True\n",
        "        except Exception:\n",
        "            return False\n",
        "\n",
        "    def move_to_problem_folder(self, image_path):\n",
        "        try:\n",
        "            source_folder = image_path.parent.name\n",
        "            dest_subfolder = self.problem_folder / source_folder\n",
        "            dest_subfolder.mkdir(exist_ok=True)\n",
        "\n",
        "            destination = dest_subfolder / image_path.name\n",
        "\n",
        "            if destination.exists():\n",
        "                timestamp = datetime.now().strftime('%Y%m%d_%H%M%S')\n",
        "                destination = dest_subfolder / f\"{image_path.stem}_{timestamp}{image_path.suffix}\"\n",
        "\n",
        "            shutil.move(str(image_path), str(destination))\n",
        "\n",
        "        except Exception as e:\n",
        "            print(f\"Error moving file: {image_path.name} - {e}\")\n",
        "\n",
        "    def clean_folder(self, folder_name):\n",
        "        folder_path = self.base_path / folder_name\n",
        "\n",
        "        if not folder_path.exists():\n",
        "            print(f\"Folder not found: {folder_name}\")\n",
        "            return\n",
        "\n",
        "        print(f\"Processing: {folder_name}...\", end=' ')\n",
        "\n",
        "        image_extensions = ['.jpg', '.jpeg', '.png', '.bmp', '.tiff', '.gif']\n",
        "        images = [f for f in folder_path.iterdir()\n",
        "                 if f.is_file() and f.suffix.lower() in image_extensions]\n",
        "\n",
        "        for img_path in images:\n",
        "            self.stats['total_checked'] += 1\n",
        "\n",
        "            # Check corruption\n",
        "            if self.is_image_corrupted(img_path):\n",
        "                self.move_to_problem_folder(img_path)\n",
        "                self.stats['corrupted'] += 1\n",
        "                continue\n",
        "\n",
        "            # Check quality\n",
        "            if not self.check_image_quality(img_path):\n",
        "                self.move_to_problem_folder(img_path)\n",
        "                self.stats['low_quality'] += 1\n",
        "                continue\n",
        "\n",
        "            # Check duplicates\n",
        "            img_hash = self.calculate_hash(img_path)\n",
        "            if img_hash:\n",
        "                if img_hash in self.image_hashes:\n",
        "                    self.move_to_problem_folder(img_path)\n",
        "                    self.stats['duplicates'] += 1\n",
        "                else:\n",
        "                    self.image_hashes[img_hash].append(str(img_path))\n",
        "                    self.stats['healthy'] += 1\n",
        "\n",
        "        print(f\"Done ({len(images)} images checked)\")\n",
        "\n",
        "    def clean_all(self):\n",
        "        print(\"\\n\" + \"=\"*60)\n",
        "        print(\"Starting cleaning process\")\n",
        "        print(\"=\"*60)\n",
        "\n",
        "        for folder in self.folders_to_check:\n",
        "            self.clean_folder(folder)\n",
        "\n",
        "        self.print_summary()\n",
        "\n",
        "    def print_summary(self):\n",
        "        print(\"\\n\" + \"=\"*60)\n",
        "        print(\"Cleaning Summary\")\n",
        "        print(\"=\"*60)\n",
        "        print(f\"Total checked: {self.stats['total_checked']}\")\n",
        "        print(f\"Healthy images: {self.stats['healthy']}\")\n",
        "        print(f\"Corrupted: {self.stats['corrupted']}\")\n",
        "        print(f\"Duplicates: {self.stats['duplicates']}\")\n",
        "        print(f\"Low quality: {self.stats['low_quality']}\")\n",
        "        print(f\"\\nProblematic files moved to: {self.problem_folder}\")\n",
        "        print(\"=\"*60)\n",
        "\n",
        "\n",
        "# For Google Colab - use the path you already created\n",
        "base_path = \"/content/Dataset/Dataset\"\n",
        "\n",
        "# Check if path exists\n",
        "if not os.path.exists(base_path):\n",
        "    print(f\"Error: Path does not exist: {base_path}\")\n",
        "    print(\"Current working directory:\", os.getcwd())\n",
        "    print(\"\\nAvailable folders:\")\n",
        "    if os.path.exists(\"/content/Dataset\"):\n",
        "        print(os.listdir(\"/content/Dataset\"))\n",
        "else:\n",
        "    print(f\"Base path found: {base_path}\")\n",
        "    print(f\"Contents: {os.listdir(base_path)}\")\n",
        "\n",
        "    cleaner = ImageCleaner(base_path)\n",
        "    cleaner.clean_all()\n",
        "    print(\"\\nCleaning completed successfully!\")"
      ],
      "metadata": {
        "colab": {
          "base_uri": "https://localhost:8080/"
        },
        "id": "aV-b53TpigGg",
        "outputId": "8d107a9d-2bf0-44ce-b6f6-01c1d5df3d73"
      },
      "execution_count": 12,
      "outputs": [
        {
          "output_type": "stream",
          "name": "stdout",
          "text": [
            "Base path found: /content/Dataset/Dataset\n",
            "Contents: ['benign', 'duplicates_or_corrupted', 'malignant']\n",
            "\n",
            "============================================================\n",
            "Starting cleaning process\n",
            "============================================================\n",
            "Processing: benign... Done (13294 images checked)\n",
            "Processing: malignant... Done (6211 images checked)\n",
            "\n",
            "============================================================\n",
            "Cleaning Summary\n",
            "============================================================\n",
            "Total checked: 19505\n",
            "Healthy images: 19505\n",
            "Corrupted: 0\n",
            "Duplicates: 0\n",
            "Low quality: 0\n",
            "\n",
            "Problematic files moved to: /content/Dataset/Dataset/duplicates_or_corrupted\n",
            "============================================================\n",
            "\n",
            "Cleaning completed successfully!\n"
          ]
        }
      ]
    },
    {
      "cell_type": "code",
      "source": [
        "import os\n",
        "import matplotlib.pyplot as plt\n",
        "\n",
        "base_path = \"/content/Dataset/Dataset\"\n",
        "\n",
        "count_benign = len(os.listdir(os.path.join(base_path, \"benign\")))\n",
        "count_malignant = len(os.listdir(os.path.join(base_path, \"malignant\")))\n",
        "\n",
        "print(\"Images per class:\")\n",
        "print(\"Benign:\", count_benign)\n",
        "print(\"Malignant:\", count_malignant)\n",
        "print(\"Total:\", count_benign + count_malignant)\n",
        "\n",
        "plt.bar([\"Benign\", \"Malignant\"], [count_benign, count_malignant])\n",
        "plt.title(\"Class Distribution After Cleaning\")\n",
        "plt.ylabel(\"Number of Images\")\n",
        "plt.show()"
      ],
      "metadata": {
        "colab": {
          "base_uri": "https://localhost:8080/",
          "height": 521
        },
        "id": "fXA4vZu2crm4",
        "outputId": "fd1d6312-ec7e-4465-c0cf-3be64ea680c0"
      },
      "execution_count": 13,
      "outputs": [
        {
          "output_type": "stream",
          "name": "stdout",
          "text": [
            "Images per class:\n",
            "Benign: 13294\n",
            "Malignant: 6211\n",
            "Total: 19505\n"
          ]
        },
        {
          "output_type": "display_data",
          "data": {
            "text/plain": [
              "<Figure size 640x480 with 1 Axes>"
            ],
            "image/png": "[encoded data removed]"
          },
          "metadata": {}
        }
      ]
    },
    {
      "cell_type": "markdown",
      "source": [
        "##### Data preprocessing (resizing, split)"
      ],
      "metadata": {
        "id": "0jiDJ3Opg7GS"
      }
    },
    {
      "cell_type": "code",
      "source": [
        "import cv2\n",
        "import shutil\n",
        "from tqdm import tqdm\n",
        "from sklearn.model_selection import train_test_split\n",
        "from tensorflow.keras.preprocessing.image import ImageDataGenerator"
      ],
      "metadata": {
        "id": "8gyqWyojivsQ"
      },
      "execution_count": 14,
      "outputs": []
    },
    {
      "cell_type": "code",
      "source": [
        "BASE_DIR = \"/content/Dataset/Dataset\"\n",
        "FOLDERS = [\"benign\", \"malignant\"]\n",
        "IMG_SIZE = (224, 224)\n",
        "RANDOM_STATE = 42\n",
        "\n",
        "TRAIN_RATIO = 0.7\n",
        "VAL_RATIO = 0.15\n",
        "TEST_RATIO = 0.15\n",
        "SPLIT_ROOT = os.path.join(BASE_DIR)"
      ],
      "metadata": {
        "id": "mFjjUZJMiyCV"
      },
      "execution_count": 15,
      "outputs": []
    },
    {
      "cell_type": "code",
      "source": [
        "# Resize all images to 224x224 and overwrite the originals as JPG files\n",
        "for cat in FOLDERS:\n",
        "    src_dir = os.path.join(BASE_DIR, cat)\n",
        "    files = [f for f in os.listdir(src_dir) if os.path.isfile(os.path.join(src_dir, f))]\n",
        "\n",
        "    for fname in tqdm(files, desc=f\"Resizing {cat}\"):\n",
        "        src_path = os.path.join(src_dir, fname)\n",
        "        try:\n",
        "            if not fname.lower().endswith(('.jpg', '.jpeg', '.png')):\n",
        "                continue\n",
        "\n",
        "\n",
        "            # read image\n",
        "            img = cv2.imread(src_path)\n",
        "            if img is None:\n",
        "                print(f\" Skipped unreadable file: {fname}\")\n",
        "                continue\n",
        "\n",
        "            # resize image\n",
        "            resized = cv2.resize(img, IMG_SIZE, interpolation=cv2.INTER_AREA)\n",
        "\n",
        "            # save resized image as JPG (overwrite or replace)\n",
        "            base_name = os.path.splitext(fname)[0]\n",
        "            save_name = base_name + \".jpg\"\n",
        "            save_path = os.path.join(src_dir, save_name)\n",
        "            cv2.imwrite(save_path, resized)\n",
        "\n",
        "            # remove original file if extension changed\n",
        "            if save_path != src_path:\n",
        "                os.remove(src_path)\n",
        "\n",
        "        except Exception as e:\n",
        "            print(f\" Skipped {fname} due to error: {e}\")"
      ],
      "metadata": {
        "colab": {
          "base_uri": "https://localhost:8080/"
        },
        "id": "snHfRfBRi_Lv",
        "outputId": "5ab76c1a-8d8c-47b5-829d-e4ec477b0baf"
      },
      "execution_count": 16,
      "outputs": [
        {
          "output_type": "stream",
          "name": "stderr",
          "text": [
            "Resizing benign: 100%|██████████| 13294/13294 [00:09<00:00, 1423.37it/s]\n",
            "Resizing malignant: 100%|██████████| 6211/6211 [00:03<00:00, 1558.20it/s]\n"
          ]
        }
      ]
    },
    {
      "cell_type": "markdown",
      "source": [
        "**Split dataset: 70% train, 15% val, 15% test**\n"
      ],
      "metadata": {
        "id": "cVoo7-3ppmTe"
      }
    },
    {
      "cell_type": "code",
      "source": [
        "import os, shutil\n",
        "import pandas as pd\n",
        "from sklearn.model_selection import train_test_split\n",
        "from tqdm import tqdm"
      ],
      "metadata": {
        "id": "MX7YhBz3qT8F"
      },
      "execution_count": 17,
      "outputs": []
    },
    {
      "cell_type": "code",
      "source": [
        "base_dir = \"/content/Dataset/Dataset\"\n",
        "folders = [\"benign\", \"malignant\"]\n",
        "\n",
        "split_dir = \"/content/Dataset_split\"\n",
        "os.makedirs(split_dir, exist_ok=True)\n",
        "\n",
        "\n",
        "# Collect all image file paths and labels\n",
        "rows = []\n",
        "for label in folders:\n",
        "    path = os.path.join(base_dir, label)\n",
        "    for fname in os.listdir(path):\n",
        "        if fname.lower().endswith(('.jpg', '.jpeg', '.png')):\n",
        "            rows.append({'path': os.path.join(path, fname), 'label': label})\n",
        "\n",
        "df = pd.DataFrame(rows)\n",
        "print(\"Total images found:\", len(df))\n",
        "print(df['label'].value_counts())\n",
        "\n",
        "# Stratified split: 70% train, 15% val, 15% test\n",
        "train_temp, test = train_test_split(df, test_size=0.15, stratify=df['label'], random_state=42)\n",
        "train, val = train_test_split(train_temp, test_size=0.1765, stratify=train_temp['label'], random_state=42)\n",
        "# 0.1765 of 85% ≈ 15% of total, resulting in 70/15/15 split\n",
        "\n",
        "# Create destination folders for train, val, and test\n",
        "for subset in ['train', 'val', 'test']:\n",
        "    for label in folders:\n",
        "        os.makedirs(os.path.join(split_dir, subset, label), exist_ok=True)\n",
        "\n",
        "# Copy images to their corresponding subset folders\n",
        "def copy_images(df_subset, subset_name):\n",
        "    print(f\"\\nCopying {subset_name} set ({len(df_subset)} images)...\")\n",
        "    for _, row in tqdm(df_subset.iterrows(), total=len(df_subset)):\n",
        "        dest = os.path.join(split_dir, subset_name, row['label'], os.path.basename(row['path']))\n",
        "        shutil.copy2(row['path'], dest)\n",
        "\n",
        "copy_images(train, \"train\")\n",
        "copy_images(val, \"val\")\n",
        "copy_images(test, \"test\")\n",
        "\n",
        "# Print summary\n",
        "print(\"\\n Dataset split completed successfully!\")\n",
        "print(f\"Train: {len(train)} images\")\n",
        "print(f\"Val:   {len(val)} images\")\n",
        "print(f\"Test:  {len(test)} images\")\n",
        "\n",
        "print(\"\\nClass distribution per set:\")\n",
        "print(\"Train:\\n\", train['label'].value_counts())\n",
        "print(\"\\nVal:\\n\", val['label'].value_counts())\n",
        "print(\"\\nTest:\\n\", test['label'].value_counts())"
      ],
      "metadata": {
        "colab": {
          "base_uri": "https://localhost:8080/"
        },
        "id": "XnUZ-HnxqV-h",
        "outputId": "45d051fa-eeae-403e-c266-1b4e4f0b1152"
      },
      "execution_count": 18,
      "outputs": [
        {
          "output_type": "stream",
          "name": "stdout",
          "text": [
            "Total images found: 19505\n",
            "label\n",
            "benign       13294\n",
            "malignant     6211\n",
            "Name: count, dtype: int64\n",
            "\n",
            "Copying train set (13652 images)...\n"
          ]
        },
        {
          "output_type": "stream",
          "name": "stderr",
          "text": [
            "100%|██████████| 13652/13652 [00:03<00:00, 4112.86it/s]\n"
          ]
        },
        {
          "output_type": "stream",
          "name": "stdout",
          "text": [
            "\n",
            "Copying val set (2927 images)...\n"
          ]
        },
        {
          "output_type": "stream",
          "name": "stderr",
          "text": [
            "100%|██████████| 2927/2927 [00:00<00:00, 3090.70it/s]\n"
          ]
        },
        {
          "output_type": "stream",
          "name": "stdout",
          "text": [
            "\n",
            "Copying test set (2926 images)...\n"
          ]
        },
        {
          "output_type": "stream",
          "name": "stderr",
          "text": [
            "100%|██████████| 2926/2926 [00:00<00:00, 3114.07it/s]"
          ]
        },
        {
          "output_type": "stream",
          "name": "stdout",
          "text": [
            "\n",
            " Dataset split completed successfully!\n",
            "Train: 13652 images\n",
            "Val:   2927 images\n",
            "Test:  2926 images\n",
            "\n",
            "Class distribution per set:\n",
            "Train:\n",
            " label\n",
            "benign       9305\n",
            "malignant    4347\n",
            "Name: count, dtype: int64\n",
            "\n",
            "Val:\n",
            " label\n",
            "benign       1995\n",
            "malignant     932\n",
            "Name: count, dtype: int64\n",
            "\n",
            "Test:\n",
            " label\n",
            "benign       1994\n",
            "malignant     932\n",
            "Name: count, dtype: int64\n"
          ]
        },
        {
          "output_type": "stream",
          "name": "stderr",
          "text": [
            "\n"
          ]
        }
      ]
    },
    {
      "cell_type": "markdown",
      "source": [
        "### Bulid Dataframe"
      ],
      "metadata": {
        "id": "2DFdntaHeV2U"
      }
    },
    {
      "cell_type": "code",
      "source": [
        "from google.colab import drive\n",
        "drive.mount('/content/drive')"
      ],
      "metadata": {
        "colab": {
          "base_uri": "https://localhost:8080/"
        },
        "id": "DBL0P42MeqwS",
        "outputId": "5cdb5579-22aa-4f2f-f949-d41834b44654"
      },
      "execution_count": 19,
      "outputs": [
        {
          "output_type": "stream",
          "name": "stdout",
          "text": [
            "Drive already mounted at /content/drive; to attempt to forcibly remount, call drive.mount(\"/content/drive\", force_remount=True).\n"
          ]
        }
      ]
    },
    {
      "cell_type": "code",
      "source": [
        "# Count the number of image files in each class folder (benign and malignant)\n",
        "# This function walks through all subdirectories and counts only valid image files.\n",
        "import os, sys, traceback\n",
        "base_path = \"/content/drive/MyDrive/Dataset/Dataset\"\n",
        "\n",
        "def count_images_in_folder(folder):\n",
        "    exts = ('.jpg','.jpeg','.png','.bmp')\n",
        "    cnt = 0\n",
        "    for root, dirs, files in os.walk(folder):\n",
        "        for f in files:\n",
        "            if f.lower().endswith(exts):\n",
        "                cnt += 1\n",
        "    return cnt\n",
        "\n",
        "for cls in ['benign','malignant']:\n",
        "    p = os.path.join(base_path, cls)\n",
        "    if not os.path.exists(p):\n",
        "        print(f\" WARNING: folder not found: {p}\")\n",
        "    else:\n",
        "        print(f\"{cls}: {count_images_in_folder(p):,} images\")"
      ],
      "metadata": {
        "colab": {
          "base_uri": "https://localhost:8080/"
        },
        "id": "eBhiqk78e4nu",
        "outputId": "091f6990-3eda-4a4e-a733-f9f3845d4b3e"
      },
      "execution_count": 30,
      "outputs": [
        {
          "output_type": "stream",
          "name": "stdout",
          "text": [
            "benign: 13,294 images\n",
            "malignant: 6,211 images\n"
          ]
        }
      ]
    },
    {
      "cell_type": "code",
      "source": [
        "# build dataframe (paths + labels)\n",
        "import pandas as pd\n",
        "\n",
        "rows=[]\n",
        "exts = ('.jpg','.jpeg','.png','.bmp')\n",
        "for cls in ['benign','malignant']:\n",
        "    folder = os.path.join(base_path, cls)\n",
        "    if not os.path.exists(folder):\n",
        "        continue\n",
        "    for root, dirs, files in os.walk(folder):\n",
        "        for fname in files:\n",
        "            if fname.lower().endswith(exts):\n",
        "                rows.append({'path': os.path.join(root, fname), 'label': cls})\n",
        "\n",
        "df = pd.DataFrame(rows)\n",
        "df = df.sample(frac=1, random_state=42).reset_index(drop=True)\n",
        "df['label_idx'] = df['label'].map({'benign':0, 'malignant':1})\n",
        "print(\"Total samples:\", len(df))\n",
        "print(df['label'].value_counts())"
      ],
      "metadata": {
        "colab": {
          "base_uri": "https://localhost:8080/"
        },
        "id": "2LHZLY71jWB9",
        "outputId": "30f2c633-c859-40c4-cf9e-7234d73e97ce"
      },
      "execution_count": 31,
      "outputs": [
        {
          "output_type": "stream",
          "name": "stdout",
          "text": [
            "Total samples: 19505\n",
            "label\n",
            "benign       13294\n",
            "malignant     6211\n",
            "Name: count, dtype: int64\n"
          ]
        }
      ]
    },
    {
      "cell_type": "code",
      "source": [
        "#  quick corrupted-files check (lightweight, may take time if dataset big)\n",
        "#  try to open the first N images from each class to detect obvious corruption\n",
        "from PIL import Image\n",
        "import random\n",
        "\n",
        "def check_samples(df, n_per_class=20):\n",
        "    corrupted = []\n",
        "    for cls in df['label'].unique():\n",
        "        paths = df[df['label']==cls]['path'].tolist()\n",
        "        sample_paths = random.sample(paths, min(n_per_class, len(paths)))\n",
        "        for p in sample_paths:\n",
        "            try:\n",
        "                img = Image.open(p)\n",
        "                img.verify()   # fast integrity check\n",
        "            except Exception as e:\n",
        "                corrupted.append((p, str(e)))\n",
        "    return corrupted\n",
        "\n",
        "corrupted_examples = check_samples(df, n_per_class=30)  # adjust sample size if you want\n",
        "if corrupted_examples:\n",
        "    print(\" Found corrupted or unreadable sample(s):\", len(corrupted_examples))\n",
        "    for p,err in corrupted_examples[:5]:\n",
        "        print(\"-\", p, \"=>\", err)\n",
        "else:\n",
        "    print(\" Quick corrupted-sample check passed (no issues in sampled files).\")\n"
      ],
      "metadata": {
        "colab": {
          "base_uri": "https://localhost:8080/"
        },
        "id": "LJBDCukCkc6R",
        "outputId": "46191fc0-7854-4c06-c44d-219cb19c73c5"
      },
      "execution_count": 36,
      "outputs": [
        {
          "output_type": "stream",
          "name": "stdout",
          "text": [
            " Quick corrupted-sample check passed (no issues in sampled files).\n"
          ]
        }
      ]
    },
    {
      "cell_type": "code",
      "source": [
        "# Save metadata CSV\n",
        "out_csv = \"/content/drive/MyDrive/ai/data/df_metadata.csv\"\n",
        "os.makedirs(os.path.dirname(out_csv), exist_ok=True)\n",
        "df.to_csv(out_csv, index=False)\n",
        "print(\" Metadata saved to:\", out_csv)"
      ],
      "metadata": {
        "colab": {
          "base_uri": "https://localhost:8080/"
        },
        "id": "9hi9ZWBRkcrP",
        "outputId": "2aa45c6d-36fa-4767-9f5c-85371b1d7b27"
      },
      "execution_count": 37,
      "outputs": [
        {
          "output_type": "stream",
          "name": "stdout",
          "text": [
            " Metadata saved to: /content/drive/MyDrive/ai/data/df_metadata.csv\n"
          ]
        }
      ]
    },
    {
      "cell_type": "code",
      "source": [
        "import tensorflow as tf\n",
        "print(\"TensorFlow version:\", tf.__version__)\n",
        "print(\"GPU available:\", tf.config.list_physical_devices('GPU'))"
      ],
      "metadata": {
        "colab": {
          "base_uri": "https://localhost:8080/"
        },
        "id": "6q1cs4D5kEZz",
        "outputId": "f454d823-69a7-4077-f8f0-553d58dc689c"
      },
      "execution_count": 32,
      "outputs": [
        {
          "output_type": "stream",
          "name": "stdout",
          "text": [
            "TensorFlow version: 2.19.0\n",
            "GPU available: [PhysicalDevice(name='/physical_device:GPU:0', device_type='GPU')]\n"
          ]
        }
      ]
    }
  ]
}